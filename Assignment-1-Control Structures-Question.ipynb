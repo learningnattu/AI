{
 "cells": [
  {
   "cell_type": "markdown",
   "id": "f9388e10",
   "metadata": {},
   "source": []
  },
  {
   "cell_type": "code",
   "execution_count": 1,
   "id": "a338ee6e",
   "metadata": {},
   "outputs": [
    {
     "name": "stdout",
     "output_type": "stream",
     "text": [
      "Welcome to Assignment-1\n"
     ]
    }
   ],
   "source": [
    "print(\"Welcome to Assignment-1\")"
   ]
  },
  {
   "cell_type": "code",
   "execution_count": 4,
   "id": "fe24d3f3",
   "metadata": {},
   "outputs": [
    {
     "name": "stdout",
     "output_type": "stream",
     "text": [
      "Add = 40\n"
     ]
    }
   ],
   "source": [
    "Num1= 10\n",
    "Num2= 30\n",
    "Add=Num1+Num2\n",
    "print(\"Add =\",Add)"
   ]
  },
  {
   "cell_type": "code",
   "execution_count": 5,
   "id": "951841bf",
   "metadata": {},
   "outputs": [
    {
     "name": "stdout",
     "output_type": "stream",
     "text": [
      "Enter the BMI Index:34\n",
      "Very Overweight\n"
     ]
    }
   ],
   "source": [
    "weight=int(input(\"Enter the BMI Index:\"))\n",
    "if(weight<=18.4):\n",
    "    print(\"Underweight\")\n",
    "elif(weight<=24.9):\n",
    "    print(\"Normal\")\n",
    "else:\n",
    "    print(\"Very Overweight\")\n"
   ]
  },
  {
   "cell_type": "code",
   "execution_count": null,
   "id": "cfc41743",
   "metadata": {},
   "outputs": [],
   "source": []
  }
 ],
 "metadata": {
  "kernelspec": {
   "display_name": "Python 3 (ipykernel)",
   "language": "python",
   "name": "python3"
  },
  "language_info": {
   "codemirror_mode": {
    "name": "ipython",
    "version": 3
   },
   "file_extension": ".py",
   "mimetype": "text/x-python",
   "name": "python",
   "nbconvert_exporter": "python",
   "pygments_lexer": "ipython3",
   "version": "3.10.9"
  }
 },
 "nbformat": 4,
 "nbformat_minor": 5
}
