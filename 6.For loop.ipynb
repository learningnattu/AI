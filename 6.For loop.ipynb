{
 "cells": [
  {
   "cell_type": "markdown",
   "id": "f72f4320",
   "metadata": {},
   "source": [
    "multiple input with specific procedure  = For loop\n"
   ]
  },
  {
   "cell_type": "code",
   "execution_count": 3,
   "id": "0c3b4ba2",
   "metadata": {},
   "outputs": [
    {
     "name": "stdout",
     "output_type": "stream",
     "text": [
      "Children\n",
      "Adult\n",
      "Citizen\n",
      "Citizen\n",
      "Senior Citizen\n"
     ]
    }
   ],
   "source": [
    "list =[17 , 30 , 45 ,50 ,85]\n",
    "for age in list:\n",
    "    if(age<18):\n",
    "        print(\"Children\")\n",
    "    elif(age<40):\n",
    "        print(\"Adult\")\n",
    "    elif(age<60):\n",
    "        print(\"Citizen\")\n",
    "    else:\n",
    "        print(\"Senior Citizen\")\n",
    "    \n",
    "        \n",
    "    \n"
   ]
  },
  {
   "cell_type": "code",
   "execution_count": null,
   "id": "6e379245",
   "metadata": {},
   "outputs": [],
   "source": []
  }
 ],
 "metadata": {
  "kernelspec": {
   "display_name": "Python 3 (ipykernel)",
   "language": "python",
   "name": "python3"
  },
  "language_info": {
   "codemirror_mode": {
    "name": "ipython",
    "version": 3
   },
   "file_extension": ".py",
   "mimetype": "text/x-python",
   "name": "python",
   "nbconvert_exporter": "python",
   "pygments_lexer": "ipython3",
   "version": "3.10.9"
  }
 },
 "nbformat": 4,
 "nbformat_minor": 5
}
