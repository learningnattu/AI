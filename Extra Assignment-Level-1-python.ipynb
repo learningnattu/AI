{
 "cells": [
  {
   "cell_type": "code",
   "execution_count": 2,
   "id": "9f0ee5bf",
   "metadata": {},
   "outputs": [
    {
     "name": "stdout",
     "output_type": "stream",
     "text": [
      "HOPE AI\n"
     ]
    }
   ],
   "source": [
    "print(\"HOPE AI\")"
   ]
  },
  {
   "cell_type": "code",
   "execution_count": null,
   "id": "417b6eaf",
   "metadata": {},
   "outputs": [],
   "source": [
    "# Buy input "
   ]
  },
  {
   "cell_type": "code",
   "execution_count": 7,
   "id": "cd14efc4",
   "metadata": {},
   "outputs": [
    {
     "name": "stdout",
     "output_type": "stream",
     "text": [
      "Enter your institute name? :HOPE AI\n"
     ]
    }
   ],
   "source": [
    "name=input(\"Enter your institute name? :\")"
   ]
  },
  {
   "cell_type": "code",
   "execution_count": null,
   "id": "a494a7d2",
   "metadata": {},
   "outputs": [],
   "source": [
    "#Buy inputs"
   ]
  },
  {
   "cell_type": "code",
   "execution_count": 5,
   "id": "41a76b5a",
   "metadata": {
    "scrolled": true
   },
   "outputs": [
    {
     "name": "stdout",
     "output_type": "stream",
     "text": [
      "Enter your name:Raj\n",
      "Enter your age:15\n",
      "Enter your school name:Guru school\n",
      "Enter your drgree:B.E CSE\n"
     ]
    }
   ],
   "source": [
    "name=input(\"Enter your name:\")\n",
    "age=int(input(\"Enter your age:\"))\n",
    "school=input(\"Enter your school name:\")\n",
    "drgree=(input(\"Enter your drgree:\"))"
   ]
  },
  {
   "cell_type": "code",
   "execution_count": null,
   "id": "8e5a2da0",
   "metadata": {},
   "outputs": [],
   "source": [
    "#Addition"
   ]
  },
  {
   "cell_type": "code",
   "execution_count": 18,
   "id": "79a763b0",
   "metadata": {},
   "outputs": [
    {
     "name": "stdout",
     "output_type": "stream",
     "text": [
      "add = 77\n"
     ]
    }
   ],
   "source": [
    "a= 43\n",
    "b= 34\n",
    "add = a+b\n",
    "print(\"add =\",add)"
   ]
  },
  {
   "cell_type": "code",
   "execution_count": null,
   "id": "45c078c9",
   "metadata": {},
   "outputs": [],
   "source": [
    "#Subtraction"
   ]
  },
  {
   "cell_type": "code",
   "execution_count": 19,
   "id": "f94d72ef",
   "metadata": {},
   "outputs": [
    {
     "name": "stdout",
     "output_type": "stream",
     "text": [
      "Sub = 9\n"
     ]
    }
   ],
   "source": [
    "a= 43\n",
    "b= 34\n",
    "Sub = a-b\n",
    "print(\"Sub =\",Sub)"
   ]
  },
  {
   "cell_type": "code",
   "execution_count": null,
   "id": "d34b805f",
   "metadata": {},
   "outputs": [],
   "source": [
    "#Multiplication"
   ]
  },
  {
   "cell_type": "code",
   "execution_count": 20,
   "id": "cd2d090d",
   "metadata": {},
   "outputs": [
    {
     "name": "stdout",
     "output_type": "stream",
     "text": [
      "Mul = 6111\n"
     ]
    }
   ],
   "source": [
    "a= 63\n",
    "b= 97\n",
    "Mul = a*b\n",
    "print(\"Mul =\",Mul)\n"
   ]
  },
  {
   "cell_type": "code",
   "execution_count": null,
   "id": "c28a7e97",
   "metadata": {},
   "outputs": [],
   "source": [
    "#Division"
   ]
  },
  {
   "cell_type": "code",
   "execution_count": 21,
   "id": "0d9d1579",
   "metadata": {},
   "outputs": [
    {
     "name": "stdout",
     "output_type": "stream",
     "text": [
      "Float Div = 2.4516129032258065\n"
     ]
    }
   ],
   "source": [
    "a= 76\n",
    "b= 31\n",
    "Div = float(a/b)\n",
    "print(\"Float Div =\",Div)"
   ]
  },
  {
   "cell_type": "code",
   "execution_count": null,
   "id": "23434051",
   "metadata": {},
   "outputs": [],
   "source": [
    "#Floor division"
   ]
  },
  {
   "cell_type": "code",
   "execution_count": 22,
   "id": "e618f745",
   "metadata": {},
   "outputs": [
    {
     "name": "stdout",
     "output_type": "stream",
     "text": [
      "Float Div = 2\n"
     ]
    }
   ],
   "source": [
    "a= 76\n",
    "b= 31\n",
    "Div = int(a/b)\n",
    "print(\"Float Div =\",Div)"
   ]
  },
  {
   "cell_type": "code",
   "execution_count": null,
   "id": "d0a13ba5",
   "metadata": {},
   "outputs": [],
   "source": [
    "#Modulo"
   ]
  },
  {
   "cell_type": "code",
   "execution_count": 23,
   "id": "bba2a5f9",
   "metadata": {},
   "outputs": [
    {
     "name": "stdout",
     "output_type": "stream",
     "text": [
      "Modulo = 14\n"
     ]
    }
   ],
   "source": [
    "a= 76\n",
    "b= 31\n",
    "Modulo = a%b\n",
    "print(\"Modulo =\",Modulo)"
   ]
  },
  {
   "cell_type": "code",
   "execution_count": null,
   "id": "bdced2eb",
   "metadata": {},
   "outputs": [],
   "source": [
    "#Power"
   ]
  },
  {
   "cell_type": "code",
   "execution_count": 24,
   "id": "4c088471",
   "metadata": {},
   "outputs": [
    {
     "name": "stdout",
     "output_type": "stream",
     "text": [
      "Power = 256\n"
     ]
    }
   ],
   "source": [
    "a= 4\n",
    "b= 4\n",
    "Power=pow(a, b)\n",
    "print(\"Power =\",Power)"
   ]
  },
  {
   "cell_type": "code",
   "execution_count": null,
   "id": "da52b611",
   "metadata": {},
   "outputs": [],
   "source": []
  }
 ],
 "metadata": {
  "kernelspec": {
   "display_name": "Python 3 (ipykernel)",
   "language": "python",
   "name": "python3"
  },
  "language_info": {
   "codemirror_mode": {
    "name": "ipython",
    "version": 3
   },
   "file_extension": ".py",
   "mimetype": "text/x-python",
   "name": "python",
   "nbconvert_exporter": "python",
   "pygments_lexer": "ipython3",
   "version": "3.10.9"
  }
 },
 "nbformat": 4,
 "nbformat_minor": 5
}
