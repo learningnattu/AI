{
 "cells": [
  {
   "cell_type": "code",
   "execution_count": 18,
   "id": "83de2569",
   "metadata": {},
   "outputs": [
    {
     "name": "stdout",
     "output_type": "stream",
     "text": [
      "Enter num1 : 10\n",
      "Enter num2 : 20\n",
      " The add :  30\n"
     ]
    }
   ],
   "source": [
    "num1 = int(input(\"Enter num1 : \"))\n",
    "num2 = int(input(\"Enter num2 : \"))\n",
    "add = num1+num2\n",
    "print(\" The add : \", add)"
   ]
  },
  {
   "cell_type": "code",
   "execution_count": null,
   "id": "0ab8f7d1",
   "metadata": {},
   "outputs": [],
   "source": []
  }
 ],
 "metadata": {
  "kernelspec": {
   "display_name": "Python 3 (ipykernel)",
   "language": "python",
   "name": "python3"
  },
  "language_info": {
   "codemirror_mode": {
    "name": "ipython",
    "version": 3
   },
   "file_extension": ".py",
   "mimetype": "text/x-python",
   "name": "python",
   "nbconvert_exporter": "python",
   "pygments_lexer": "ipython3",
   "version": "3.10.9"
  }
 },
 "nbformat": 4,
 "nbformat_minor": 5
}
